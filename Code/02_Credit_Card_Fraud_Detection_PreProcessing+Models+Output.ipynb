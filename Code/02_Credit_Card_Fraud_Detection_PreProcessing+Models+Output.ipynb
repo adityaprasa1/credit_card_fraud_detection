{
  "nbformat": 4,
  "nbformat_minor": 0,
  "metadata": {
    "colab": {
      "provenance": [],
      "gpuType": "V28",
      "toc_visible": true
    },
    "kernelspec": {
      "name": "python3",
      "display_name": "Python 3"
    },
    "language_info": {
      "name": "python"
    },
    "accelerator": "TPU"
  },
  "cells": [
    {
      "cell_type": "code",
      "execution_count": null,
      "metadata": {
        "colab": {
          "base_uri": "https://localhost:8080/"
        },
        "id": "BFOZvtEgpJnO",
        "outputId": "61c5481f-e6cb-4dc7-cc12-3ca76663e559"
      },
      "outputs": [
        {
          "output_type": "stream",
          "name": "stdout",
          "text": [
            "Drive already mounted at /content/drive; to attempt to forcibly remount, call drive.mount(\"/content/drive\", force_remount=True).\n"
          ]
        }
      ],
      "source": [
        "from google.colab import drive\n",
        "drive.mount('/content/drive')"
      ]
    },
    {
      "cell_type": "code",
      "source": [
        "import os\n",
        "\n",
        "# Path to the dataset file\n",
        "dataset_path = '/content/drive/MyDrive/Credit_Card_Fraud_Detection/credit_card_transactions.csv'\n",
        "\n",
        "# Check if the file exist\n",
        "if os.path.exists(dataset_path):\n",
        "  print(\"The pre-processed dataset file is present.\")\n",
        "else:\n",
        "  print(\"The pre-processed dataset file is not present.\")"
      ],
      "metadata": {
        "colab": {
          "base_uri": "https://localhost:8080/"
        },
        "outputId": "87391785-f087-493b-efb6-5db651376221",
        "id": "09nEsA82BCoU"
      },
      "execution_count": null,
      "outputs": [
        {
          "output_type": "stream",
          "name": "stdout",
          "text": [
            "The pre-processed dataset file is present.\n"
          ]
        }
      ]
    },
    {
      "cell_type": "code",
      "source": [
        "# All imports and utility functions\n",
        "import pandas as pd\n",
        "import matplotlib.pyplot as plt\n",
        "import seaborn as sns\n",
        "from sklearn.metrics import accuracy_score, f1_score, precision_score, recall_score, classification_report, confusion_matrix, precision_recall_curve\n",
        "from sklearn.model_selection import train_test_split\n",
        "\n",
        "df = pd.read_csv(dataset_path)\n",
        "df.info()"
      ],
      "metadata": {
        "colab": {
          "base_uri": "https://localhost:8080/"
        },
        "id": "bFq8S3kT1Mv1",
        "outputId": "706acc30-2f4a-4e07-c755-7944fefdb1f3"
      },
      "execution_count": null,
      "outputs": [
        {
          "output_type": "stream",
          "name": "stdout",
          "text": [
            "<class 'pandas.core.frame.DataFrame'>\n",
            "RangeIndex: 1296675 entries, 0 to 1296674\n",
            "Data columns (total 24 columns):\n",
            " #   Column                 Non-Null Count    Dtype  \n",
            "---  ------                 --------------    -----  \n",
            " 0   Unnamed: 0             1296675 non-null  int64  \n",
            " 1   trans_date_trans_time  1296675 non-null  object \n",
            " 2   cc_num                 1296675 non-null  int64  \n",
            " 3   merchant               1296675 non-null  object \n",
            " 4   category               1296675 non-null  object \n",
            " 5   amt                    1296675 non-null  float64\n",
            " 6   first                  1296675 non-null  object \n",
            " 7   last                   1296675 non-null  object \n",
            " 8   gender                 1296675 non-null  object \n",
            " 9   street                 1296675 non-null  object \n",
            " 10  city                   1296675 non-null  object \n",
            " 11  state                  1296675 non-null  object \n",
            " 12  zip                    1296675 non-null  int64  \n",
            " 13  lat                    1296675 non-null  float64\n",
            " 14  long                   1296675 non-null  float64\n",
            " 15  city_pop               1296675 non-null  int64  \n",
            " 16  job                    1296675 non-null  object \n",
            " 17  dob                    1296675 non-null  object \n",
            " 18  trans_num              1296675 non-null  object \n",
            " 19  unix_time              1296675 non-null  int64  \n",
            " 20  merch_lat              1296675 non-null  float64\n",
            " 21  merch_long             1296675 non-null  float64\n",
            " 22  is_fraud               1296675 non-null  int64  \n",
            " 23  merch_zipcode          1100702 non-null  float64\n",
            "dtypes: float64(6), int64(6), object(12)\n",
            "memory usage: 237.4+ MB\n"
          ]
        }
      ]
    },
    {
      "cell_type": "markdown",
      "source": [
        "# Data Pre-processing"
      ],
      "metadata": {
        "id": "h7u7ZkEHOVBg"
      }
    },
    {
      "cell_type": "code",
      "source": [
        "'''\n",
        "Drop the columns\n",
        " 1) which are not useful for fraud detection or\n",
        " 2) have high correlations\n",
        "'''\n",
        "df.drop(\"Unnamed: 0\", inplace=True, axis=1)\n",
        "df.drop(\"gender\", inplace=True, axis=1)\n",
        "df.drop(\"first\", inplace=True, axis=1)\n",
        "df.drop(\"last\", inplace=True, axis=1)\n",
        "df.drop(\"lat\", inplace=True, axis=1) # Almost same as merch_lat\n",
        "df.drop(\"long\", inplace=True, axis=1) # Almost same as merch_long\n",
        "df.drop(\"dob\", inplace=True, axis=1)\n",
        "df.drop(\"job\", inplace=True, axis=1)\n",
        "df.drop(\"merch_zipcode\", inplace=True, axis=1) # Because we have another zip code also\n",
        "df.drop(\"merch_lat\", inplace=True, axis=1)\n",
        "df.drop(\"merch_long\", inplace=True, axis=1)\n",
        "df.drop(\"street\", inplace=True, axis=1)\n",
        "df.drop(\"city_pop\", inplace=True, axis=1)\n",
        "df.drop(\"trans_date_trans_time\", inplace=True, axis=1) # Becuase we have unix_time\n",
        "df.drop(\"trans_num\", inplace=True, axis=1)\n",
        "df.drop('city', inplace=True, axis=1)\n",
        "df.drop('state', inplace=True, axis=1)\n",
        "\n",
        "print(df.columns)\n",
        "df.dtypes"
      ],
      "metadata": {
        "colab": {
          "base_uri": "https://localhost:8080/",
          "height": 376
        },
        "id": "qSOFmh6RIMPp",
        "outputId": "97414583-fa20-4d5b-b1e5-65dcf54c5d05"
      },
      "execution_count": null,
      "outputs": [
        {
          "output_type": "stream",
          "name": "stdout",
          "text": [
            "Index(['cc_num', 'merchant', 'category', 'amt', 'zip', 'unix_time',\n",
            "       'is_fraud'],\n",
            "      dtype='object')\n"
          ]
        },
        {
          "output_type": "execute_result",
          "data": {
            "text/plain": [
              "cc_num         int64\n",
              "merchant      object\n",
              "category      object\n",
              "amt          float64\n",
              "zip            int64\n",
              "unix_time      int64\n",
              "is_fraud       int64\n",
              "dtype: object"
            ],
            "text/html": [
              "<div>\n",
              "<style scoped>\n",
              "    .dataframe tbody tr th:only-of-type {\n",
              "        vertical-align: middle;\n",
              "    }\n",
              "\n",
              "    .dataframe tbody tr th {\n",
              "        vertical-align: top;\n",
              "    }\n",
              "\n",
              "    .dataframe thead th {\n",
              "        text-align: right;\n",
              "    }\n",
              "</style>\n",
              "<table border=\"1\" class=\"dataframe\">\n",
              "  <thead>\n",
              "    <tr style=\"text-align: right;\">\n",
              "      <th></th>\n",
              "      <th>0</th>\n",
              "    </tr>\n",
              "  </thead>\n",
              "  <tbody>\n",
              "    <tr>\n",
              "      <th>cc_num</th>\n",
              "      <td>int64</td>\n",
              "    </tr>\n",
              "    <tr>\n",
              "      <th>merchant</th>\n",
              "      <td>object</td>\n",
              "    </tr>\n",
              "    <tr>\n",
              "      <th>category</th>\n",
              "      <td>object</td>\n",
              "    </tr>\n",
              "    <tr>\n",
              "      <th>amt</th>\n",
              "      <td>float64</td>\n",
              "    </tr>\n",
              "    <tr>\n",
              "      <th>zip</th>\n",
              "      <td>int64</td>\n",
              "    </tr>\n",
              "    <tr>\n",
              "      <th>unix_time</th>\n",
              "      <td>int64</td>\n",
              "    </tr>\n",
              "    <tr>\n",
              "      <th>is_fraud</th>\n",
              "      <td>int64</td>\n",
              "    </tr>\n",
              "  </tbody>\n",
              "</table>\n",
              "</div><br><label><b>dtype:</b> object</label>"
            ]
          },
          "metadata": {},
          "execution_count": 3
        }
      ]
    },
    {
      "cell_type": "code",
      "source": [
        "# Check the correlations again among attributes\n",
        "sns.heatmap(df.corr(numeric_only=True), annot=True, fmt='.1f', cmap='coolwarm')\n",
        "plt.show()"
      ],
      "metadata": {
        "colab": {
          "base_uri": "https://localhost:8080/",
          "height": 455
        },
        "id": "WSRCmawNfygf",
        "outputId": "181d8165-869c-4b11-b97c-401375e1b090"
      },
      "execution_count": null,
      "outputs": [
        {
          "output_type": "display_data",
          "data": {
            "text/plain": [
              "<Figure size 640x480 with 2 Axes>"
            ],
            "image/png": "[encoded data removed]"
          },
          "metadata": {}
        }
      ]
    },
    {
      "cell_type": "code",
      "source": [
        "# Use onehot encoding for the categorical data (merchant, category)\n",
        "df = pd.get_dummies(df, columns=['merchant', 'category'])\n",
        "\n",
        "df.head()"
      ],
      "metadata": {
        "colab": {
          "base_uri": "https://localhost:8080/",
          "height": 273
        },
        "id": "NVMxCHvTotCc",
        "outputId": "68ec92f6-3621-4a5d-be4e-6c26ee1aa6a1"
      },
      "execution_count": null,
      "outputs": [
        {
          "output_type": "execute_result",
          "data": {
            "text/plain": [
              "             cc_num     amt    zip   unix_time  is_fraud  \\\n",
              "0  2703186189652095    4.97  28654  1325376018         0   \n",
              "1      630423337322  107.23  99160  1325376044         0   \n",
              "2    38859492057661  220.11  83252  1325376051         0   \n",
              "3  3534093764340240   45.00  59632  1325376076         0   \n",
              "4   375534208663984   41.96  24433  1325376186         0   \n",
              "\n",
              "   merchant_fraud_Abbott-Rogahn  merchant_fraud_Abbott-Steuber  \\\n",
              "0                             0                              0   \n",
              "1                             0                              0   \n",
              "2                             0                              0   \n",
              "3                             0                              0   \n",
              "4                             0                              0   \n",
              "\n",
              "   merchant_fraud_Abernathy and Sons  merchant_fraud_Abshire PLC  \\\n",
              "0                                  0                           0   \n",
              "1                                  0                           0   \n",
              "2                                  0                           0   \n",
              "3                                  0                           0   \n",
              "4                                  0                           0   \n",
              "\n",
              "   merchant_fraud_Adams, Kovacek and Kuhlman  ...  category_grocery_pos  \\\n",
              "0                                          0  ...                     0   \n",
              "1                                          0  ...                     1   \n",
              "2                                          0  ...                     0   \n",
              "3                                          0  ...                     0   \n",
              "4                                          0  ...                     0   \n",
              "\n",
              "   category_health_fitness  category_home  category_kids_pets  \\\n",
              "0                        0              0                   0   \n",
              "1                        0              0                   0   \n",
              "2                        0              0                   0   \n",
              "3                        0              0                   0   \n",
              "4                        0              0                   0   \n",
              "\n",
              "   category_misc_net  category_misc_pos  category_personal_care  \\\n",
              "0                  1                  0                       0   \n",
              "1                  0                  0                       0   \n",
              "2                  0                  0                       0   \n",
              "3                  0                  0                       0   \n",
              "4                  0                  1                       0   \n",
              "\n",
              "   category_shopping_net  category_shopping_pos  category_travel  \n",
              "0                      0                      0                0  \n",
              "1                      0                      0                0  \n",
              "2                      0                      0                0  \n",
              "3                      0                      0                0  \n",
              "4                      0                      0                0  \n",
              "\n",
              "[5 rows x 712 columns]"
            ],
            "text/html": [
              "\n",
              "  <div id=\"df-05d1d4ae-52b3-407e-b4ea-890088ab275e\" class=\"colab-df-container\">\n",
              "    <div>\n",
              "<style scoped>\n",
              "    .dataframe tbody tr th:only-of-type {\n",
              "        vertical-align: middle;\n",
              "    }\n",
              "\n",
              "    .dataframe tbody tr th {\n",
              "        vertical-align: top;\n",
              "    }\n",
              "\n",
              "    .dataframe thead th {\n",
              "        text-align: right;\n",
              "    }\n",
              "</style>\n",
              "<table border=\"1\" class=\"dataframe\">\n",
              "  <thead>\n",
              "    <tr style=\"text-align: right;\">\n",
              "      <th></th>\n",
              "      <th>cc_num</th>\n",
              "      <th>amt</th>\n",
              "      <th>zip</th>\n",
              "      <th>unix_time</th>\n",
              "      <th>is_fraud</th>\n",
              "      <th>merchant_fraud_Abbott-Rogahn</th>\n",
              "      <th>merchant_fraud_Abbott-Steuber</th>\n",
              "      <th>merchant_fraud_Abernathy and Sons</th>\n",
              "      <th>merchant_fraud_Abshire PLC</th>\n",
              "      <th>merchant_fraud_Adams, Kovacek and Kuhlman</th>\n",
              "      <th>...</th>\n",
              "      <th>category_grocery_pos</th>\n",
              "      <th>category_health_fitness</th>\n",
              "      <th>category_home</th>\n",
              "      <th>category_kids_pets</th>\n",
              "      <th>category_misc_net</th>\n",
              "      <th>category_misc_pos</th>\n",
              "      <th>category_personal_care</th>\n",
              "      <th>category_shopping_net</th>\n",
              "      <th>category_shopping_pos</th>\n",
              "      <th>category_travel</th>\n",
              "    </tr>\n",
              "  </thead>\n",
              "  <tbody>\n",
              "    <tr>\n",
              "      <th>0</th>\n",
              "      <td>2703186189652095</td>\n",
              "      <td>4.97</td>\n",
              "      <td>28654</td>\n",
              "      <td>1325376018</td>\n",
              "      <td>0</td>\n",
              "      <td>0</td>\n",
              "      <td>0</td>\n",
              "      <td>0</td>\n",
              "      <td>0</td>\n",
              "      <td>0</td>\n",
              "      <td>...</td>\n",
              "      <td>0</td>\n",
              "      <td>0</td>\n",
              "      <td>0</td>\n",
              "      <td>0</td>\n",
              "      <td>1</td>\n",
              "      <td>0</td>\n",
              "      <td>0</td>\n",
              "      <td>0</td>\n",
              "      <td>0</td>\n",
              "      <td>0</td>\n",
              "    </tr>\n",
              "    <tr>\n",
              "      <th>1</th>\n",
              "      <td>630423337322</td>\n",
              "      <td>107.23</td>\n",
              "      <td>99160</td>\n",
              "      <td>1325376044</td>\n",
              "      <td>0</td>\n",
              "      <td>0</td>\n",
              "      <td>0</td>\n",
              "      <td>0</td>\n",
              "      <td>0</td>\n",
              "      <td>0</td>\n",
              "      <td>...</td>\n",
              "      <td>1</td>\n",
              "      <td>0</td>\n",
              "      <td>0</td>\n",
              "      <td>0</td>\n",
              "      <td>0</td>\n",
              "      <td>0</td>\n",
              "      <td>0</td>\n",
              "      <td>0</td>\n",
              "      <td>0</td>\n",
              "      <td>0</td>\n",
              "    </tr>\n",
              "    <tr>\n",
              "      <th>2</th>\n",
              "      <td>38859492057661</td>\n",
              "      <td>220.11</td>\n",
              "      <td>83252</td>\n",
              "      <td>1325376051</td>\n",
              "      <td>0</td>\n",
              "      <td>0</td>\n",
              "      <td>0</td>\n",
              "      <td>0</td>\n",
              "      <td>0</td>\n",
              "      <td>0</td>\n",
              "      <td>...</td>\n",
              "      <td>0</td>\n",
              "      <td>0</td>\n",
              "      <td>0</td>\n",
              "      <td>0</td>\n",
              "      <td>0</td>\n",
              "      <td>0</td>\n",
              "      <td>0</td>\n",
              "      <td>0</td>\n",
              "      <td>0</td>\n",
              "      <td>0</td>\n",
              "    </tr>\n",
              "    <tr>\n",
              "      <th>3</th>\n",
              "      <td>3534093764340240</td>\n",
              "      <td>45.00</td>\n",
              "      <td>59632</td>\n",
              "      <td>1325376076</td>\n",
              "      <td>0</td>\n",
              "      <td>0</td>\n",
              "      <td>0</td>\n",
              "      <td>0</td>\n",
              "      <td>0</td>\n",
              "      <td>0</td>\n",
              "      <td>...</td>\n",
              "      <td>0</td>\n",
              "      <td>0</td>\n",
              "      <td>0</td>\n",
              "      <td>0</td>\n",
              "      <td>0</td>\n",
              "      <td>0</td>\n",
              "      <td>0</td>\n",
              "      <td>0</td>\n",
              "      <td>0</td>\n",
              "      <td>0</td>\n",
              "    </tr>\n",
              "    <tr>\n",
              "      <th>4</th>\n",
              "      <td>375534208663984</td>\n",
              "      <td>41.96</td>\n",
              "      <td>24433</td>\n",
              "      <td>1325376186</td>\n",
              "      <td>0</td>\n",
              "      <td>0</td>\n",
              "      <td>0</td>\n",
              "      <td>0</td>\n",
              "      <td>0</td>\n",
              "      <td>0</td>\n",
              "      <td>...</td>\n",
              "      <td>0</td>\n",
              "      <td>0</td>\n",
              "      <td>0</td>\n",
              "      <td>0</td>\n",
              "      <td>0</td>\n",
              "      <td>1</td>\n",
              "      <td>0</td>\n",
              "      <td>0</td>\n",
              "      <td>0</td>\n",
              "      <td>0</td>\n",
              "    </tr>\n",
              "  </tbody>\n",
              "</table>\n",
              "<p>5 rows × 712 columns</p>\n",
              "</div>\n",
              "    <div class=\"colab-df-buttons\">\n",
              "\n",
              "  <div class=\"colab-df-container\">\n",
              "    <button class=\"colab-df-convert\" onclick=\"convertToInteractive('df-05d1d4ae-52b3-407e-b4ea-890088ab275e')\"\n",
              "            title=\"Convert this dataframe to an interactive table.\"\n",
              "            style=\"display:none;\">\n",
              "\n",
              "  <svg xmlns=\"http://www.w3.org/2000/svg\" height=\"24px\" viewBox=\"0 -960 960 960\">\n",
              "    <path d=\"M120-120v-720h720v720H120Zm60-500h600v-160H180v160Zm220 220h160v-160H400v160Zm0 220h160v-160H400v160ZM180-400h160v-160H180v160Zm440 0h160v-160H620v160ZM180-180h160v-160H180v160Zm440 0h160v-160H620v160Z\"/>\n",
              "  </svg>\n",
              "    </button>\n",
              "\n",
              "  <style>\n",
              "    .colab-df-container {\n",
              "      display:flex;\n",
              "      gap: 12px;\n",
              "    }\n",
              "\n",
              "    .colab-df-convert {\n",
              "      background-color: #E8F0FE;\n",
              "      border: none;\n",
              "      border-radius: 50%;\n",
              "      cursor: pointer;\n",
              "      display: none;\n",
              "      fill: #1967D2;\n",
              "      height: 32px;\n",
              "      padding: 0 0 0 0;\n",
              "      width: 32px;\n",
              "    }\n",
              "\n",
              "    .colab-df-convert:hover {\n",
              "      background-color: #E2EBFA;\n",
              "      box-shadow: 0px 1px 2px rgba(60, 64, 67, 0.3), 0px 1px 3px 1px rgba(60, 64, 67, 0.15);\n",
              "      fill: #174EA6;\n",
              "    }\n",
              "\n",
              "    .colab-df-buttons div {\n",
              "      margin-bottom: 4px;\n",
              "    }\n",
              "\n",
              "    [theme=dark] .colab-df-convert {\n",
              "      background-color: #3B4455;\n",
              "      fill: #D2E3FC;\n",
              "    }\n",
              "\n",
              "    [theme=dark] .colab-df-convert:hover {\n",
              "      background-color: #434B5C;\n",
              "      box-shadow: 0px 1px 3px 1px rgba(0, 0, 0, 0.15);\n",
              "      filter: drop-shadow(0px 1px 2px rgba(0, 0, 0, 0.3));\n",
              "      fill: #FFFFFF;\n",
              "    }\n",
              "  </style>\n",
              "\n",
              "    <script>\n",
              "      const buttonEl =\n",
              "        document.querySelector('#df-05d1d4ae-52b3-407e-b4ea-890088ab275e button.colab-df-convert');\n",
              "      buttonEl.style.display =\n",
              "        google.colab.kernel.accessAllowed ? 'block' : 'none';\n",
              "\n",
              "      async function convertToInteractive(key) {\n",
              "        const element = document.querySelector('#df-05d1d4ae-52b3-407e-b4ea-890088ab275e');\n",
              "        const dataTable =\n",
              "          await google.colab.kernel.invokeFunction('convertToInteractive',\n",
              "                                                    [key], {});\n",
              "        if (!dataTable) return;\n",
              "\n",
              "        const docLinkHtml = 'Like what you see? Visit the ' +\n",
              "          '<a target=\"_blank\" href=https://colab.research.google.com/notebooks/data_table.ipynb>data table notebook</a>'\n",
              "          + ' to learn more about interactive tables.';\n",
              "        element.innerHTML = '';\n",
              "        dataTable['output_type'] = 'display_data';\n",
              "        await google.colab.output.renderOutput(dataTable, element);\n",
              "        const docLink = document.createElement('div');\n",
              "        docLink.innerHTML = docLinkHtml;\n",
              "        element.appendChild(docLink);\n",
              "      }\n",
              "    </script>\n",
              "  </div>\n",
              "\n",
              "\n",
              "<div id=\"df-6ef1e2ad-bc16-4fdf-8630-102783c4e9ad\">\n",
              "  <button class=\"colab-df-quickchart\" onclick=\"quickchart('df-6ef1e2ad-bc16-4fdf-8630-102783c4e9ad')\"\n",
              "            title=\"Suggest charts\"\n",
              "            style=\"display:none;\">\n",
              "\n",
              "<svg xmlns=\"http://www.w3.org/2000/svg\" height=\"24px\"viewBox=\"0 0 24 24\"\n",
              "     width=\"24px\">\n",
              "    <g>\n",
              "        <path d=\"M19 3H5c-1.1 0-2 .9-2 2v14c0 1.1.9 2 2 2h14c1.1 0 2-.9 2-2V5c0-1.1-.9-2-2-2zM9 17H7v-7h2v7zm4 0h-2V7h2v10zm4 0h-2v-4h2v4z\"/>\n",
              "    </g>\n",
              "</svg>\n",
              "  </button>\n",
              "\n",
              "<style>\n",
              "  .colab-df-quickchart {\n",
              "      --bg-color: #E8F0FE;\n",
              "      --fill-color: #1967D2;\n",
              "      --hover-bg-color: #E2EBFA;\n",
              "      --hover-fill-color: #174EA6;\n",
              "      --disabled-fill-color: #AAA;\n",
              "      --disabled-bg-color: #DDD;\n",
              "  }\n",
              "\n",
              "  [theme=dark] .colab-df-quickchart {\n",
              "      --bg-color: #3B4455;\n",
              "      --fill-color: #D2E3FC;\n",
              "      --hover-bg-color: #434B5C;\n",
              "      --hover-fill-color: #FFFFFF;\n",
              "      --disabled-bg-color: #3B4455;\n",
              "      --disabled-fill-color: #666;\n",
              "  }\n",
              "\n",
              "  .colab-df-quickchart {\n",
              "    background-color: var(--bg-color);\n",
              "    border: none;\n",
              "    border-radius: 50%;\n",
              "    cursor: pointer;\n",
              "    display: none;\n",
              "    fill: var(--fill-color);\n",
              "    height: 32px;\n",
              "    padding: 0;\n",
              "    width: 32px;\n",
              "  }\n",
              "\n",
              "  .colab-df-quickchart:hover {\n",
              "    background-color: var(--hover-bg-color);\n",
              "    box-shadow: 0 1px 2px rgba(60, 64, 67, 0.3), 0 1px 3px 1px rgba(60, 64, 67, 0.15);\n",
              "    fill: var(--button-hover-fill-color);\n",
              "  }\n",
              "\n",
              "  .colab-df-quickchart-complete:disabled,\n",
              "  .colab-df-quickchart-complete:disabled:hover {\n",
              "    background-color: var(--disabled-bg-color);\n",
              "    fill: var(--disabled-fill-color);\n",
              "    box-shadow: none;\n",
              "  }\n",
              "\n",
              "  .colab-df-spinner {\n",
              "    border: 2px solid var(--fill-color);\n",
              "    border-color: transparent;\n",
              "    border-bottom-color: var(--fill-color);\n",
              "    animation:\n",
              "      spin 1s steps(1) infinite;\n",
              "  }\n",
              "\n",
              "  @keyframes spin {\n",
              "    0% {\n",
              "      border-color: transparent;\n",
              "      border-bottom-color: var(--fill-color);\n",
              "      border-left-color: var(--fill-color);\n",
              "    }\n",
              "    20% {\n",
              "      border-color: transparent;\n",
              "      border-left-color: var(--fill-color);\n",
              "      border-top-color: var(--fill-color);\n",
              "    }\n",
              "    30% {\n",
              "      border-color: transparent;\n",
              "      border-left-color: var(--fill-color);\n",
              "      border-top-color: var(--fill-color);\n",
              "      border-right-color: var(--fill-color);\n",
              "    }\n",
              "    40% {\n",
              "      border-color: transparent;\n",
              "      border-right-color: var(--fill-color);\n",
              "      border-top-color: var(--fill-color);\n",
              "    }\n",
              "    60% {\n",
              "      border-color: transparent;\n",
              "      border-right-color: var(--fill-color);\n",
              "    }\n",
              "    80% {\n",
              "      border-color: transparent;\n",
              "      border-right-color: var(--fill-color);\n",
              "      border-bottom-color: var(--fill-color);\n",
              "    }\n",
              "    90% {\n",
              "      border-color: transparent;\n",
              "      border-bottom-color: var(--fill-color);\n",
              "    }\n",
              "  }\n",
              "</style>\n",
              "\n",
              "  <script>\n",
              "    async function quickchart(key) {\n",
              "      const quickchartButtonEl =\n",
              "        document.querySelector('#' + key + ' button');\n",
              "      quickchartButtonEl.disabled = true;  // To prevent multiple clicks.\n",
              "      quickchartButtonEl.classList.add('colab-df-spinner');\n",
              "      try {\n",
              "        const charts = await google.colab.kernel.invokeFunction(\n",
              "            'suggestCharts', [key], {});\n",
              "      } catch (error) {\n",
              "        console.error('Error during call to suggestCharts:', error);\n",
              "      }\n",
              "      quickchartButtonEl.classList.remove('colab-df-spinner');\n",
              "      quickchartButtonEl.classList.add('colab-df-quickchart-complete');\n",
              "    }\n",
              "    (() => {\n",
              "      let quickchartButtonEl =\n",
              "        document.querySelector('#df-6ef1e2ad-bc16-4fdf-8630-102783c4e9ad button');\n",
              "      quickchartButtonEl.style.display =\n",
              "        google.colab.kernel.accessAllowed ? 'block' : 'none';\n",
              "    })();\n",
              "  </script>\n",
              "</div>\n",
              "\n",
              "    </div>\n",
              "  </div>\n"
            ],
            "application/vnd.google.colaboratory.intrinsic+json": {
              "type": "dataframe",
              "variable_name": "df"
            }
          },
          "metadata": {},
          "execution_count": 5
        }
      ]
    },
    {
      "cell_type": "code",
      "source": [
        "# See if no categorical attributes are left\n",
        "df.dtypes"
      ],
      "metadata": {
        "colab": {
          "base_uri": "https://localhost:8080/",
          "height": 478
        },
        "id": "5mol6k70tPc8",
        "outputId": "afea5b71-e760-4234-880b-6adea5fea4ff"
      },
      "execution_count": null,
      "outputs": [
        {
          "output_type": "execute_result",
          "data": {
            "text/plain": [
              "cc_num                      int64\n",
              "amt                       float64\n",
              "zip                         int64\n",
              "unix_time                   int64\n",
              "is_fraud                    int64\n",
              "                           ...   \n",
              "category_misc_pos           uint8\n",
              "category_personal_care      uint8\n",
              "category_shopping_net       uint8\n",
              "category_shopping_pos       uint8\n",
              "category_travel             uint8\n",
              "Length: 712, dtype: object"
            ],
            "text/html": [
              "<div>\n",
              "<style scoped>\n",
              "    .dataframe tbody tr th:only-of-type {\n",
              "        vertical-align: middle;\n",
              "    }\n",
              "\n",
              "    .dataframe tbody tr th {\n",
              "        vertical-align: top;\n",
              "    }\n",
              "\n",
              "    .dataframe thead th {\n",
              "        text-align: right;\n",
              "    }\n",
              "</style>\n",
              "<table border=\"1\" class=\"dataframe\">\n",
              "  <thead>\n",
              "    <tr style=\"text-align: right;\">\n",
              "      <th></th>\n",
              "      <th>0</th>\n",
              "    </tr>\n",
              "  </thead>\n",
              "  <tbody>\n",
              "    <tr>\n",
              "      <th>cc_num</th>\n",
              "      <td>int64</td>\n",
              "    </tr>\n",
              "    <tr>\n",
              "      <th>amt</th>\n",
              "      <td>float64</td>\n",
              "    </tr>\n",
              "    <tr>\n",
              "      <th>zip</th>\n",
              "      <td>int64</td>\n",
              "    </tr>\n",
              "    <tr>\n",
              "      <th>unix_time</th>\n",
              "      <td>int64</td>\n",
              "    </tr>\n",
              "    <tr>\n",
              "      <th>is_fraud</th>\n",
              "      <td>int64</td>\n",
              "    </tr>\n",
              "    <tr>\n",
              "      <th>...</th>\n",
              "      <td>...</td>\n",
              "    </tr>\n",
              "    <tr>\n",
              "      <th>category_misc_pos</th>\n",
              "      <td>uint8</td>\n",
              "    </tr>\n",
              "    <tr>\n",
              "      <th>category_personal_care</th>\n",
              "      <td>uint8</td>\n",
              "    </tr>\n",
              "    <tr>\n",
              "      <th>category_shopping_net</th>\n",
              "      <td>uint8</td>\n",
              "    </tr>\n",
              "    <tr>\n",
              "      <th>category_shopping_pos</th>\n",
              "      <td>uint8</td>\n",
              "    </tr>\n",
              "    <tr>\n",
              "      <th>category_travel</th>\n",
              "      <td>uint8</td>\n",
              "    </tr>\n",
              "  </tbody>\n",
              "</table>\n",
              "<p>712 rows × 1 columns</p>\n",
              "</div><br><label><b>dtype:</b> object</label>"
            ]
          },
          "metadata": {},
          "execution_count": 6
        }
      ]
    },
    {
      "cell_type": "code",
      "source": [
        "# Let's fix the class imbalance first using SMOTE\n",
        "!pip install imbalanced-learn\n",
        "from imblearn.over_sampling import SMOTE\n",
        "\n",
        "X = df.drop('is_fraud', axis=1)\n",
        "y = df['is_fraud']\n",
        "\n",
        "smote = SMOTE()\n",
        "X,y = smote.fit_resample(X,y)"
      ],
      "metadata": {
        "colab": {
          "base_uri": "https://localhost:8080/"
        },
        "id": "w6gGRd0m4Nlo",
        "outputId": "1ba58022-084d-48bd-fd2b-a6c97aac1e93"
      },
      "execution_count": null,
      "outputs": [
        {
          "output_type": "stream",
          "name": "stdout",
          "text": [
            "Requirement already satisfied: imbalanced-learn in /usr/local/lib/python3.10/dist-packages (0.12.4)\n",
            "Requirement already satisfied: numpy>=1.17.3 in /usr/local/lib/python3.10/dist-packages (from imbalanced-learn) (1.26.4)\n",
            "Requirement already satisfied: scipy>=1.5.0 in /usr/local/lib/python3.10/dist-packages (from imbalanced-learn) (1.13.1)\n",
            "Requirement already satisfied: scikit-learn>=1.0.2 in /usr/local/lib/python3.10/dist-packages (from imbalanced-learn) (1.5.2)\n",
            "Requirement already satisfied: joblib>=1.1.1 in /usr/local/lib/python3.10/dist-packages (from imbalanced-learn) (1.4.2)\n",
            "Requirement already satisfied: threadpoolctl>=2.0.0 in /usr/local/lib/python3.10/dist-packages (from imbalanced-learn) (3.5.0)\n"
          ]
        }
      ]
    },
    {
      "cell_type": "code",
      "source": [
        "# Split the data for train and test\n",
        "\n",
        "X_train, X_test, y_train, y_test = train_test_split(X, y, test_size=0.2, stratify=y, random_state=42)\n",
        "print(\"Number of fraud transactions in the training datset:\\n\", y_train.value_counts())\n",
        "print(\"\\nNumber of fraud transactions in the testing dataset:\\n\", y_test.value_counts())\n",
        "X.head()"
      ],
      "metadata": {
        "colab": {
          "base_uri": "https://localhost:8080/",
          "height": 432
        },
        "id": "0Gj4RyumaMsZ",
        "outputId": "220da757-2406-4483-f5f5-6f9a1a1f096b"
      },
      "execution_count": null,
      "outputs": [
        {
          "output_type": "stream",
          "name": "stdout",
          "text": [
            "Number of fraud transactions in the training datset:\n",
            " 0    1031335\n",
            "1    1031335\n",
            "Name: is_fraud, dtype: int64\n",
            "\n",
            "Number of fraud transactions in the testing dataset:\n",
            " 1    257834\n",
            "0    257834\n",
            "Name: is_fraud, dtype: int64\n"
          ]
        },
        {
          "output_type": "execute_result",
          "data": {
            "text/plain": [
              "             cc_num     amt    zip   unix_time  merchant_fraud_Abbott-Rogahn  \\\n",
              "0  2703186189652095    4.97  28654  1325376018                             0   \n",
              "1      630423337322  107.23  99160  1325376044                             0   \n",
              "2    38859492057661  220.11  83252  1325376051                             0   \n",
              "3  3534093764340240   45.00  59632  1325376076                             0   \n",
              "4   375534208663984   41.96  24433  1325376186                             0   \n",
              "\n",
              "   merchant_fraud_Abbott-Steuber  merchant_fraud_Abernathy and Sons  \\\n",
              "0                              0                                  0   \n",
              "1                              0                                  0   \n",
              "2                              0                                  0   \n",
              "3                              0                                  0   \n",
              "4                              0                                  0   \n",
              "\n",
              "   merchant_fraud_Abshire PLC  merchant_fraud_Adams, Kovacek and Kuhlman  \\\n",
              "0                           0                                          0   \n",
              "1                           0                                          0   \n",
              "2                           0                                          0   \n",
              "3                           0                                          0   \n",
              "4                           0                                          0   \n",
              "\n",
              "   merchant_fraud_Adams-Barrows  ...  category_grocery_pos  \\\n",
              "0                             0  ...                     0   \n",
              "1                             0  ...                     1   \n",
              "2                             0  ...                     0   \n",
              "3                             0  ...                     0   \n",
              "4                             0  ...                     0   \n",
              "\n",
              "   category_health_fitness  category_home  category_kids_pets  \\\n",
              "0                        0              0                   0   \n",
              "1                        0              0                   0   \n",
              "2                        0              0                   0   \n",
              "3                        0              0                   0   \n",
              "4                        0              0                   0   \n",
              "\n",
              "   category_misc_net  category_misc_pos  category_personal_care  \\\n",
              "0                  1                  0                       0   \n",
              "1                  0                  0                       0   \n",
              "2                  0                  0                       0   \n",
              "3                  0                  0                       0   \n",
              "4                  0                  1                       0   \n",
              "\n",
              "   category_shopping_net  category_shopping_pos  category_travel  \n",
              "0                      0                      0                0  \n",
              "1                      0                      0                0  \n",
              "2                      0                      0                0  \n",
              "3                      0                      0                0  \n",
              "4                      0                      0                0  \n",
              "\n",
              "[5 rows x 711 columns]"
            ],
            "text/html": [
              "\n",
              "  <div id=\"df-e3fd56f8-2785-4109-b9b3-d17906473cf8\" class=\"colab-df-container\">\n",
              "    <div>\n",
              "<style scoped>\n",
              "    .dataframe tbody tr th:only-of-type {\n",
              "        vertical-align: middle;\n",
              "    }\n",
              "\n",
              "    .dataframe tbody tr th {\n",
              "        vertical-align: top;\n",
              "    }\n",
              "\n",
              "    .dataframe thead th {\n",
              "        text-align: right;\n",
              "    }\n",
              "</style>\n",
              "<table border=\"1\" class=\"dataframe\">\n",
              "  <thead>\n",
              "    <tr style=\"text-align: right;\">\n",
              "      <th></th>\n",
              "      <th>cc_num</th>\n",
              "      <th>amt</th>\n",
              "      <th>zip</th>\n",
              "      <th>unix_time</th>\n",
              "      <th>merchant_fraud_Abbott-Rogahn</th>\n",
              "      <th>merchant_fraud_Abbott-Steuber</th>\n",
              "      <th>merchant_fraud_Abernathy and Sons</th>\n",
              "      <th>merchant_fraud_Abshire PLC</th>\n",
              "      <th>merchant_fraud_Adams, Kovacek and Kuhlman</th>\n",
              "      <th>merchant_fraud_Adams-Barrows</th>\n",
              "      <th>...</th>\n",
              "      <th>category_grocery_pos</th>\n",
              "      <th>category_health_fitness</th>\n",
              "      <th>category_home</th>\n",
              "      <th>category_kids_pets</th>\n",
              "      <th>category_misc_net</th>\n",
              "      <th>category_misc_pos</th>\n",
              "      <th>category_personal_care</th>\n",
              "      <th>category_shopping_net</th>\n",
              "      <th>category_shopping_pos</th>\n",
              "      <th>category_travel</th>\n",
              "    </tr>\n",
              "  </thead>\n",
              "  <tbody>\n",
              "    <tr>\n",
              "      <th>0</th>\n",
              "      <td>2703186189652095</td>\n",
              "      <td>4.97</td>\n",
              "      <td>28654</td>\n",
              "      <td>1325376018</td>\n",
              "      <td>0</td>\n",
              "      <td>0</td>\n",
              "      <td>0</td>\n",
              "      <td>0</td>\n",
              "      <td>0</td>\n",
              "      <td>0</td>\n",
              "      <td>...</td>\n",
              "      <td>0</td>\n",
              "      <td>0</td>\n",
              "      <td>0</td>\n",
              "      <td>0</td>\n",
              "      <td>1</td>\n",
              "      <td>0</td>\n",
              "      <td>0</td>\n",
              "      <td>0</td>\n",
              "      <td>0</td>\n",
              "      <td>0</td>\n",
              "    </tr>\n",
              "    <tr>\n",
              "      <th>1</th>\n",
              "      <td>630423337322</td>\n",
              "      <td>107.23</td>\n",
              "      <td>99160</td>\n",
              "      <td>1325376044</td>\n",
              "      <td>0</td>\n",
              "      <td>0</td>\n",
              "      <td>0</td>\n",
              "      <td>0</td>\n",
              "      <td>0</td>\n",
              "      <td>0</td>\n",
              "      <td>...</td>\n",
              "      <td>1</td>\n",
              "      <td>0</td>\n",
              "      <td>0</td>\n",
              "      <td>0</td>\n",
              "      <td>0</td>\n",
              "      <td>0</td>\n",
              "      <td>0</td>\n",
              "      <td>0</td>\n",
              "      <td>0</td>\n",
              "      <td>0</td>\n",
              "    </tr>\n",
              "    <tr>\n",
              "      <th>2</th>\n",
              "      <td>38859492057661</td>\n",
              "      <td>220.11</td>\n",
              "      <td>83252</td>\n",
              "      <td>1325376051</td>\n",
              "      <td>0</td>\n",
              "      <td>0</td>\n",
              "      <td>0</td>\n",
              "      <td>0</td>\n",
              "      <td>0</td>\n",
              "      <td>0</td>\n",
              "      <td>...</td>\n",
              "      <td>0</td>\n",
              "      <td>0</td>\n",
              "      <td>0</td>\n",
              "      <td>0</td>\n",
              "      <td>0</td>\n",
              "      <td>0</td>\n",
              "      <td>0</td>\n",
              "      <td>0</td>\n",
              "      <td>0</td>\n",
              "      <td>0</td>\n",
              "    </tr>\n",
              "    <tr>\n",
              "      <th>3</th>\n",
              "      <td>3534093764340240</td>\n",
              "      <td>45.00</td>\n",
              "      <td>59632</td>\n",
              "      <td>1325376076</td>\n",
              "      <td>0</td>\n",
              "      <td>0</td>\n",
              "      <td>0</td>\n",
              "      <td>0</td>\n",
              "      <td>0</td>\n",
              "      <td>0</td>\n",
              "      <td>...</td>\n",
              "      <td>0</td>\n",
              "      <td>0</td>\n",
              "      <td>0</td>\n",
              "      <td>0</td>\n",
              "      <td>0</td>\n",
              "      <td>0</td>\n",
              "      <td>0</td>\n",
              "      <td>0</td>\n",
              "      <td>0</td>\n",
              "      <td>0</td>\n",
              "    </tr>\n",
              "    <tr>\n",
              "      <th>4</th>\n",
              "      <td>375534208663984</td>\n",
              "      <td>41.96</td>\n",
              "      <td>24433</td>\n",
              "      <td>1325376186</td>\n",
              "      <td>0</td>\n",
              "      <td>0</td>\n",
              "      <td>0</td>\n",
              "      <td>0</td>\n",
              "      <td>0</td>\n",
              "      <td>0</td>\n",
              "      <td>...</td>\n",
              "      <td>0</td>\n",
              "      <td>0</td>\n",
              "      <td>0</td>\n",
              "      <td>0</td>\n",
              "      <td>0</td>\n",
              "      <td>1</td>\n",
              "      <td>0</td>\n",
              "      <td>0</td>\n",
              "      <td>0</td>\n",
              "      <td>0</td>\n",
              "    </tr>\n",
              "  </tbody>\n",
              "</table>\n",
              "<p>5 rows × 711 columns</p>\n",
              "</div>\n",
              "    <div class=\"colab-df-buttons\">\n",
              "\n",
              "  <div class=\"colab-df-container\">\n",
              "    <button class=\"colab-df-convert\" onclick=\"convertToInteractive('df-e3fd56f8-2785-4109-b9b3-d17906473cf8')\"\n",
              "            title=\"Convert this dataframe to an interactive table.\"\n",
              "            style=\"display:none;\">\n",
              "\n",
              "  <svg xmlns=\"http://www.w3.org/2000/svg\" height=\"24px\" viewBox=\"0 -960 960 960\">\n",
              "    <path d=\"M120-120v-720h720v720H120Zm60-500h600v-160H180v160Zm220 220h160v-160H400v160Zm0 220h160v-160H400v160ZM180-400h160v-160H180v160Zm440 0h160v-160H620v160ZM180-180h160v-160H180v160Zm440 0h160v-160H620v160Z\"/>\n",
              "  </svg>\n",
              "    </button>\n",
              "\n",
              "  <style>\n",
              "    .colab-df-container {\n",
              "      display:flex;\n",
              "      gap: 12px;\n",
              "    }\n",
              "\n",
              "    .colab-df-convert {\n",
              "      background-color: #E8F0FE;\n",
              "      border: none;\n",
              "      border-radius: 50%;\n",
              "      cursor: pointer;\n",
              "      display: none;\n",
              "      fill: #1967D2;\n",
              "      height: 32px;\n",
              "      padding: 0 0 0 0;\n",
              "      width: 32px;\n",
              "    }\n",
              "\n",
              "    .colab-df-convert:hover {\n",
              "      background-color: #E2EBFA;\n",
              "      box-shadow: 0px 1px 2px rgba(60, 64, 67, 0.3), 0px 1px 3px 1px rgba(60, 64, 67, 0.15);\n",
              "      fill: #174EA6;\n",
              "    }\n",
              "\n",
              "    .colab-df-buttons div {\n",
              "      margin-bottom: 4px;\n",
              "    }\n",
              "\n",
              "    [theme=dark] .colab-df-convert {\n",
              "      background-color: #3B4455;\n",
              "      fill: #D2E3FC;\n",
              "    }\n",
              "\n",
              "    [theme=dark] .colab-df-convert:hover {\n",
              "      background-color: #434B5C;\n",
              "      box-shadow: 0px 1px 3px 1px rgba(0, 0, 0, 0.15);\n",
              "      filter: drop-shadow(0px 1px 2px rgba(0, 0, 0, 0.3));\n",
              "      fill: #FFFFFF;\n",
              "    }\n",
              "  </style>\n",
              "\n",
              "    <script>\n",
              "      const buttonEl =\n",
              "        document.querySelector('#df-e3fd56f8-2785-4109-b9b3-d17906473cf8 button.colab-df-convert');\n",
              "      buttonEl.style.display =\n",
              "        google.colab.kernel.accessAllowed ? 'block' : 'none';\n",
              "\n",
              "      async function convertToInteractive(key) {\n",
              "        const element = document.querySelector('#df-e3fd56f8-2785-4109-b9b3-d17906473cf8');\n",
              "        const dataTable =\n",
              "          await google.colab.kernel.invokeFunction('convertToInteractive',\n",
              "                                                    [key], {});\n",
              "        if (!dataTable) return;\n",
              "\n",
              "        const docLinkHtml = 'Like what you see? Visit the ' +\n",
              "          '<a target=\"_blank\" href=https://colab.research.google.com/notebooks/data_table.ipynb>data table notebook</a>'\n",
              "          + ' to learn more about interactive tables.';\n",
              "        element.innerHTML = '';\n",
              "        dataTable['output_type'] = 'display_data';\n",
              "        await google.colab.output.renderOutput(dataTable, element);\n",
              "        const docLink = document.createElement('div');\n",
              "        docLink.innerHTML = docLinkHtml;\n",
              "        element.appendChild(docLink);\n",
              "      }\n",
              "    </script>\n",
              "  </div>\n",
              "\n",
              "\n",
              "<div id=\"df-011f509f-6f1f-4aad-aeac-8b9450479787\">\n",
              "  <button class=\"colab-df-quickchart\" onclick=\"quickchart('df-011f509f-6f1f-4aad-aeac-8b9450479787')\"\n",
              "            title=\"Suggest charts\"\n",
              "            style=\"display:none;\">\n",
              "\n",
              "<svg xmlns=\"http://www.w3.org/2000/svg\" height=\"24px\"viewBox=\"0 0 24 24\"\n",
              "     width=\"24px\">\n",
              "    <g>\n",
              "        <path d=\"M19 3H5c-1.1 0-2 .9-2 2v14c0 1.1.9 2 2 2h14c1.1 0 2-.9 2-2V5c0-1.1-.9-2-2-2zM9 17H7v-7h2v7zm4 0h-2V7h2v10zm4 0h-2v-4h2v4z\"/>\n",
              "    </g>\n",
              "</svg>\n",
              "  </button>\n",
              "\n",
              "<style>\n",
              "  .colab-df-quickchart {\n",
              "      --bg-color: #E8F0FE;\n",
              "      --fill-color: #1967D2;\n",
              "      --hover-bg-color: #E2EBFA;\n",
              "      --hover-fill-color: #174EA6;\n",
              "      --disabled-fill-color: #AAA;\n",
              "      --disabled-bg-color: #DDD;\n",
              "  }\n",
              "\n",
              "  [theme=dark] .colab-df-quickchart {\n",
              "      --bg-color: #3B4455;\n",
              "      --fill-color: #D2E3FC;\n",
              "      --hover-bg-color: #434B5C;\n",
              "      --hover-fill-color: #FFFFFF;\n",
              "      --disabled-bg-color: #3B4455;\n",
              "      --disabled-fill-color: #666;\n",
              "  }\n",
              "\n",
              "  .colab-df-quickchart {\n",
              "    background-color: var(--bg-color);\n",
              "    border: none;\n",
              "    border-radius: 50%;\n",
              "    cursor: pointer;\n",
              "    display: none;\n",
              "    fill: var(--fill-color);\n",
              "    height: 32px;\n",
              "    padding: 0;\n",
              "    width: 32px;\n",
              "  }\n",
              "\n",
              "  .colab-df-quickchart:hover {\n",
              "    background-color: var(--hover-bg-color);\n",
              "    box-shadow: 0 1px 2px rgba(60, 64, 67, 0.3), 0 1px 3px 1px rgba(60, 64, 67, 0.15);\n",
              "    fill: var(--button-hover-fill-color);\n",
              "  }\n",
              "\n",
              "  .colab-df-quickchart-complete:disabled,\n",
              "  .colab-df-quickchart-complete:disabled:hover {\n",
              "    background-color: var(--disabled-bg-color);\n",
              "    fill: var(--disabled-fill-color);\n",
              "    box-shadow: none;\n",
              "  }\n",
              "\n",
              "  .colab-df-spinner {\n",
              "    border: 2px solid var(--fill-color);\n",
              "    border-color: transparent;\n",
              "    border-bottom-color: var(--fill-color);\n",
              "    animation:\n",
              "      spin 1s steps(1) infinite;\n",
              "  }\n",
              "\n",
              "  @keyframes spin {\n",
              "    0% {\n",
              "      border-color: transparent;\n",
              "      border-bottom-color: var(--fill-color);\n",
              "      border-left-color: var(--fill-color);\n",
              "    }\n",
              "    20% {\n",
              "      border-color: transparent;\n",
              "      border-left-color: var(--fill-color);\n",
              "      border-top-color: var(--fill-color);\n",
              "    }\n",
              "    30% {\n",
              "      border-color: transparent;\n",
              "      border-left-color: var(--fill-color);\n",
              "      border-top-color: var(--fill-color);\n",
              "      border-right-color: var(--fill-color);\n",
              "    }\n",
              "    40% {\n",
              "      border-color: transparent;\n",
              "      border-right-color: var(--fill-color);\n",
              "      border-top-color: var(--fill-color);\n",
              "    }\n",
              "    60% {\n",
              "      border-color: transparent;\n",
              "      border-right-color: var(--fill-color);\n",
              "    }\n",
              "    80% {\n",
              "      border-color: transparent;\n",
              "      border-right-color: var(--fill-color);\n",
              "      border-bottom-color: var(--fill-color);\n",
              "    }\n",
              "    90% {\n",
              "      border-color: transparent;\n",
              "      border-bottom-color: var(--fill-color);\n",
              "    }\n",
              "  }\n",
              "</style>\n",
              "\n",
              "  <script>\n",
              "    async function quickchart(key) {\n",
              "      const quickchartButtonEl =\n",
              "        document.querySelector('#' + key + ' button');\n",
              "      quickchartButtonEl.disabled = true;  // To prevent multiple clicks.\n",
              "      quickchartButtonEl.classList.add('colab-df-spinner');\n",
              "      try {\n",
              "        const charts = await google.colab.kernel.invokeFunction(\n",
              "            'suggestCharts', [key], {});\n",
              "      } catch (error) {\n",
              "        console.error('Error during call to suggestCharts:', error);\n",
              "      }\n",
              "      quickchartButtonEl.classList.remove('colab-df-spinner');\n",
              "      quickchartButtonEl.classList.add('colab-df-quickchart-complete');\n",
              "    }\n",
              "    (() => {\n",
              "      let quickchartButtonEl =\n",
              "        document.querySelector('#df-011f509f-6f1f-4aad-aeac-8b9450479787 button');\n",
              "      quickchartButtonEl.style.display =\n",
              "        google.colab.kernel.accessAllowed ? 'block' : 'none';\n",
              "    })();\n",
              "  </script>\n",
              "</div>\n",
              "\n",
              "    </div>\n",
              "  </div>\n"
            ],
            "application/vnd.google.colaboratory.intrinsic+json": {
              "type": "dataframe",
              "variable_name": "X"
            }
          },
          "metadata": {},
          "execution_count": 8
        }
      ]
    },
    {
      "cell_type": "markdown",
      "source": [
        "We can see that now both the classes are balanced."
      ],
      "metadata": {
        "id": "FhU6xHaDXUm2"
      }
    },
    {
      "cell_type": "markdown",
      "source": [
        "# Model Development and Validation"
      ],
      "metadata": {
        "id": "Ojjx9NOUUevk"
      }
    },
    {
      "cell_type": "markdown",
      "source": [
        "## Logistic Regression"
      ],
      "metadata": {
        "id": "Kgno6G0RrMnH"
      }
    },
    {
      "cell_type": "code",
      "source": [
        "from sklearn.linear_model import LogisticRegression\n",
        "\n",
        "lr_model = LogisticRegression(random_state=0)\n",
        "lr_model.fit(X_train, y_train)\n",
        "\n",
        "lr_y_pred = lr_model.predict(X_test)"
      ],
      "metadata": {
        "id": "8hU3sSSEouob"
      },
      "execution_count": null,
      "outputs": []
    },
    {
      "cell_type": "code",
      "source": [
        "print(\"===== Logistic Regression ======\")\n",
        "print(\"Accuracy:\", accuracy_score(y_test, lr_y_pred))\n",
        "print(\"Precision:\", precision_score(y_test, lr_y_pred, average='weighted', zero_division=1))\n",
        "print(\"Recall:\", recall_score(y_test, lr_y_pred, average='weighted'))\n",
        "print(\"F1 Score:\", f1_score(y_test, lr_y_pred, average='weighted'))\n",
        "\n",
        "print(\"\\nConfusion Matrix:\")\n",
        "print(confusion_matrix(y_test, lr_y_pred))\n",
        "\n",
        "print(\"\\nClassification Report:\")\n",
        "print(classification_report(y_test, lr_y_pred, zero_division=0))"
      ],
      "metadata": {
        "colab": {
          "base_uri": "https://localhost:8080/"
        },
        "id": "NwOYyF-2pZp6",
        "outputId": "ad50c80f-ae0d-489c-83e9-daeaeea2cd99"
      },
      "execution_count": null,
      "outputs": [
        {
          "output_type": "stream",
          "name": "stdout",
          "text": [
            "===== Logistic Regression ======\n",
            "Accuracy: 0.5\n",
            "Precision: 0.75\n",
            "Recall: 0.5\n",
            "F1 Score: 0.3333333333333333\n",
            "\n",
            "Confusion Matrix:\n",
            "[[257834      0]\n",
            " [257834      0]]\n",
            "\n",
            "Classification Report:\n",
            "              precision    recall  f1-score   support\n",
            "\n",
            "           0       0.50      1.00      0.67    257834\n",
            "           1       0.00      0.00      0.00    257834\n",
            "\n",
            "    accuracy                           0.50    515668\n",
            "   macro avg       0.25      0.50      0.33    515668\n",
            "weighted avg       0.25      0.50      0.33    515668\n",
            "\n"
          ]
        }
      ]
    },
    {
      "cell_type": "markdown",
      "source": [
        "We can see that **Logistic Regression is not a good choice for this exercise.**\n",
        "\n",
        "We had also tried Logistic Regression with Kernel PCA. But the issue we faced is the available amount of RAM since KPCA memory requirement gorws quadratic of the data points available in the dataset. In our case we have around 1.3M rows and hence it is difficult to work with KPCA.\n"
      ],
      "metadata": {
        "id": "zQ68thmirdeD"
      }
    },
    {
      "cell_type": "markdown",
      "source": [
        "## Random Forest Classifier"
      ],
      "metadata": {
        "id": "yxDjCa8hU4vc"
      }
    },
    {
      "cell_type": "markdown",
      "source": [
        "Increasing the n_estimators increses the validation scores, but that causes more execution time. So, to balance it, we are keeping it to 20"
      ],
      "metadata": {
        "id": "rPizDY2IVSTv"
      }
    },
    {
      "cell_type": "code",
      "source": [
        "from sklearn.ensemble import RandomForestClassifier\n",
        "\n",
        "rf_model = RandomForestClassifier(n_estimators=20, min_samples_leaf=4, max_depth=20, min_samples_split=4, random_state=0)\n",
        "rf_model.fit(X_train, y_train)\n",
        "\n",
        "rf_y_pred = rf_model.predict(X_test)"
      ],
      "metadata": {
        "id": "8Mo2O1Rl4AJo"
      },
      "execution_count": null,
      "outputs": []
    },
    {
      "cell_type": "code",
      "source": [
        "print(\"===== RandomForest Classifier ======\")\n",
        "print(f\"Accuracy: {accuracy_score(y_test, rf_y_pred):.3f}\")\n",
        "print(f\"Precision: {precision_score(y_test, rf_y_pred, average='weighted', zero_division=0):.3f}\")\n",
        "print(f\"Recall: {recall_score(y_test, rf_y_pred, average='weighted'):.3f}\")\n",
        "print(f\"F1 Score: {f1_score(y_test, rf_y_pred, average='weighted'):.3f}\")\n",
        "\n",
        "print(\"\\nConfusion Matrix:\")\n",
        "print(confusion_matrix(y_test, rf_y_pred))\n",
        "\n",
        "print(\"\\nClassification Report:\")\n",
        "print(classification_report(y_test, rf_y_pred, zero_division=0))"
      ],
      "metadata": {
        "id": "kQHRBCXflj8L",
        "colab": {
          "base_uri": "https://localhost:8080/"
        },
        "outputId": "b2aefc01-0388-4fb7-c204-c139f08ae161"
      },
      "execution_count": null,
      "outputs": [
        {
          "output_type": "stream",
          "name": "stdout",
          "text": [
            "===== RandomForest Classifier ======\n",
            "Accuracy: 0.911\n",
            "Precision: 0.917\n",
            "Recall: 0.911\n",
            "F1 Score: 0.910\n",
            "\n",
            "Confusion Matrix:\n",
            "[[251228   6606]\n",
            " [ 39434 218400]]\n",
            "\n",
            "Classification Report:\n",
            "              precision    recall  f1-score   support\n",
            "\n",
            "           0       0.86      0.97      0.92    257834\n",
            "           1       0.97      0.85      0.90    257834\n",
            "\n",
            "    accuracy                           0.91    515668\n",
            "   macro avg       0.92      0.91      0.91    515668\n",
            "weighted avg       0.92      0.91      0.91    515668\n",
            "\n"
          ]
        }
      ]
    },
    {
      "cell_type": "markdown",
      "source": [
        "The Type-I and Type-II error with RandomForestClassifier **is more** with n_estimators=20.\n",
        "\n",
        "Also, the Precision, Recall, and f-1 scores are okay but not that good.\n",
        "\n",
        "So RandomForest is somewhat okay"
      ],
      "metadata": {
        "id": "7IV6UzK_X1Ao"
      }
    },
    {
      "cell_type": "markdown",
      "source": [
        "## Random Forest Classifier with PCA"
      ],
      "metadata": {
        "id": "xDLuW3n29M5v"
      }
    },
    {
      "cell_type": "code",
      "source": [
        "from sklearn.preprocessing import StandardScaler\n",
        "from sklearn.decomposition import PCA\n",
        "from sklearn.ensemble import RandomForestClassifier\n",
        "\n",
        "'''\n",
        "Standardize the data becuase PCA is sensitive to the scale of features.\n",
        "Features should be on the same scale (mean of 0 and standard deviation of 1).\n",
        "\n",
        "X is alraedy after dropping some of the attributes and one-hot encoding on\n",
        "two attributes becuase, categorical data were many and one-hot encoding on all\n",
        "of them would have resulted in far too many columns.\n",
        "'''\n",
        "scaler = StandardScaler()\n",
        "X_scaled = scaler.fit_transform(X)\n",
        "\n",
        "pca = PCA(n_components=0.95) # 95% of variance\n",
        "X_pca = pca.fit_transform(X_scaled)\n",
        "print(\"Number of components selected:\", pca.n_components_)\n",
        "\n",
        "X_train_pca, X_test_pca, y_train_pca, y_test_pca = train_test_split(X_pca, y, test_size=0.2, random_state=1)\n",
        "\n",
        "# Use RandomForest as ensemble method with PCA\n",
        "rf_model_pca = RandomForestClassifier(n_estimators=20, min_samples_leaf=4, max_depth=20, min_samples_split=4, random_state=0)\n",
        "rf_model_pca.fit(X_train_pca, y_train_pca)\n",
        "\n",
        "rf_y_pred_pca = rf_model_pca.predict(X_test_pca)"
      ],
      "metadata": {
        "colab": {
          "base_uri": "https://localhost:8080/"
        },
        "id": "sT1xtD2n5DS3",
        "outputId": "8cf96c7d-86f7-4402-9128-61c32c219d37"
      },
      "execution_count": null,
      "outputs": [
        {
          "output_type": "stream",
          "name": "stdout",
          "text": [
            "Number of components selected: 662\n"
          ]
        }
      ]
    },
    {
      "cell_type": "code",
      "source": [
        "print(\"===== RandomForest Classifier with PCA ======\")\n",
        "print(f\"Accuracy: {accuracy_score(y_test_pca, rf_y_pred_pca):.3f}\")\n",
        "print(f\"Precision: {precision_score(y_test_pca, rf_y_pred_pca, average='weighted', zero_division=0):.3f}\")\n",
        "print(f\"Recall: {recall_score(y_test_pca, rf_y_pred_pca, average='weighted'):.3f}\")\n",
        "print(f\"F1 Score: {f1_score(y_test_pca, rf_y_pred_pca, average='weighted'):.3f}\")\n",
        "\n",
        "print(\"\\nConfusion Matrix:\")\n",
        "print(confusion_matrix(y_test_pca, rf_y_pred_pca))\n",
        "\n",
        "print(\"\\nClassification Report:\")\n",
        "print(classification_report(y_test_pca, rf_y_pred_pca, zero_division=0))"
      ],
      "metadata": {
        "id": "pcvgSDyY5SjE",
        "colab": {
          "base_uri": "https://localhost:8080/"
        },
        "outputId": "f765cf1f-9367-4d44-903d-04e5e9ebb476"
      },
      "execution_count": null,
      "outputs": [
        {
          "output_type": "stream",
          "name": "stdout",
          "text": [
            "===== RandomForest Classifier with PCA ======\n",
            "Accuracy: 0.992\n",
            "Precision: 0.992\n",
            "Recall: 0.992\n",
            "F1 Score: 0.992\n",
            "\n",
            "Confusion Matrix:\n",
            "[[256652    545]\n",
            " [  3818 254653]]\n",
            "\n",
            "Classification Report:\n",
            "              precision    recall  f1-score   support\n",
            "\n",
            "           0       0.99      1.00      0.99    257197\n",
            "           1       1.00      0.99      0.99    258471\n",
            "\n",
            "    accuracy                           0.99    515668\n",
            "   macro avg       0.99      0.99      0.99    515668\n",
            "weighted avg       0.99      0.99      0.99    515668\n",
            "\n"
          ]
        }
      ]
    },
    {
      "cell_type": "markdown",
      "source": [
        "We can see that with same n_estimators=20 and max_depth=20, the RandomForestClassifier with PCA is giving better result compared to standalone RandomForestClassifier.\n",
        " - Type-I error is less\n",
        " - Type-II error is very less"
      ],
      "metadata": {
        "id": "gRuQutXc924L"
      }
    },
    {
      "cell_type": "markdown",
      "source": [
        "## Decision Tree Classifier"
      ],
      "metadata": {
        "id": "R0R9PWBVVAMP"
      }
    },
    {
      "cell_type": "markdown",
      "source": [
        "Increasing the max_depth increases the scores, so as execution time. With max_depth=20, the scores are already closed to 99%"
      ],
      "metadata": {
        "id": "DlcQbVLXWOUu"
      }
    },
    {
      "cell_type": "code",
      "source": [
        "from sklearn.tree import DecisionTreeClassifier\n",
        "\n",
        "dt_model = DecisionTreeClassifier(max_depth=20, min_samples_split=4, random_state=0)\n",
        "dt_model.fit(X_train, y_train)\n",
        "\n",
        "dc_y_pred = dt_model.predict(X_test)"
      ],
      "metadata": {
        "id": "dyg1Iwtwum4U"
      },
      "execution_count": null,
      "outputs": []
    },
    {
      "cell_type": "code",
      "source": [
        "print(\"===== DecisionTree Classifier ======\")\n",
        "print(f\"Accuracy: {accuracy_score(y_test, dc_y_pred):.3f}\")\n",
        "print(f\"Precision: {precision_score(y_test, dc_y_pred, average='weighted', zero_division=0):.3f}\")\n",
        "print(f\"Recall: {recall_score(y_test, dc_y_pred, average='weighted'):.3f}\")\n",
        "print(f\"F1 Score: {f1_score(y_test, dc_y_pred, average='weighted'):.3f}\")\n",
        "\n",
        "print(\"\\nConfusion Matrix:\")\n",
        "print(confusion_matrix(y_test, dc_y_pred))\n",
        "\n",
        "print(\"\\nClassification Report:\")\n",
        "print(classification_report(y_test, dc_y_pred, zero_division=0))"
      ],
      "metadata": {
        "id": "zikhtQSqum6S",
        "colab": {
          "base_uri": "https://localhost:8080/"
        },
        "outputId": "091b6c0b-a3dc-4380-f85a-b4ca841162d2"
      },
      "execution_count": null,
      "outputs": [
        {
          "output_type": "stream",
          "name": "stdout",
          "text": [
            "===== DecisionTree Classifier ======\n",
            "Accuracy: 0.993\n",
            "Precision: 0.993\n",
            "Recall: 0.993\n",
            "F1 Score: 0.993\n",
            "\n",
            "Confusion Matrix:\n",
            "[[255954   1880]\n",
            " [  1646 256188]]\n",
            "\n",
            "Classification Report:\n",
            "              precision    recall  f1-score   support\n",
            "\n",
            "           0       0.99      0.99      0.99    257834\n",
            "           1       0.99      0.99      0.99    257834\n",
            "\n",
            "    accuracy                           0.99    515668\n",
            "   macro avg       0.99      0.99      0.99    515668\n",
            "weighted avg       0.99      0.99      0.99    515668\n",
            "\n"
          ]
        }
      ]
    },
    {
      "cell_type": "markdown",
      "source": [
        "\n",
        "The Type-I and Type-II error with DecisonTreeClassifier is **very less** (~ 1%).\n",
        " - Type-I error (FP) is **less** than RandomForestClassifier with PCA\n",
        " - Type-II error (FN) is **more** than RandomForestClassifier with PCA\n",
        "\n",
        "Also, the Precision, Recall, and f-1 **scores are very good**.\n"
      ],
      "metadata": {
        "id": "-2NsGoLRZFbF"
      }
    },
    {
      "cell_type": "markdown",
      "source": [
        "## Gradient Boost Classifier"
      ],
      "metadata": {
        "id": "tSNStM-EuXx-"
      }
    },
    {
      "cell_type": "code",
      "source": [
        "from sklearn.ensemble import GradientBoostingClassifier\n",
        "\n",
        "gb_model = GradientBoostingClassifier(n_estimators=20, learning_rate=0.1, max_depth=4, random_state=0)\n",
        "gb_model.fit(X_train, y_train)\n",
        "\n",
        "gb_y_pred = gb_model.predict(X_test)"
      ],
      "metadata": {
        "id": "c9FoVdPfukxP"
      },
      "execution_count": null,
      "outputs": []
    },
    {
      "cell_type": "code",
      "source": [
        "print(\"===== GradientBoost Classifier ======\")\n",
        "print(f\"Accuracy: {accuracy_score(y_test, gb_y_pred):.3f}\")\n",
        "print(f\"Precision: {precision_score(y_test, gb_y_pred, average='weighted', zero_division=0):.3f}\")\n",
        "print(f\"Recall: {recall_score(y_test, gb_y_pred, average='weighted'):.3f}\")\n",
        "print(f\"F1 Score: {f1_score(y_test, gb_y_pred, average='weighted'):.3f}\")\n",
        "\n",
        "print(\"\\nConfusion Matrix:\")\n",
        "print(confusion_matrix(y_test, gb_y_pred))\n",
        "\n",
        "print(\"\\nClassification Report:\")\n",
        "print(classification_report(y_test, gb_y_pred, zero_division=0))"
      ],
      "metadata": {
        "id": "BTKiRld2vzn6",
        "colab": {
          "base_uri": "https://localhost:8080/"
        },
        "outputId": "2860ef99-aaca-43cb-a4bb-2ca8296cf93c"
      },
      "execution_count": null,
      "outputs": [
        {
          "output_type": "stream",
          "name": "stdout",
          "text": [
            "===== GradientBoost Classifier ======\n",
            "Accuracy: 0.904\n",
            "Precision: 0.911\n",
            "Recall: 0.904\n",
            "F1 Score: 0.903\n",
            "\n",
            "Confusion Matrix:\n",
            "[[250310   7524]\n",
            " [ 42216 215618]]\n",
            "\n",
            "Classification Report:\n",
            "              precision    recall  f1-score   support\n",
            "\n",
            "           0       0.86      0.97      0.91    257834\n",
            "           1       0.97      0.84      0.90    257834\n",
            "\n",
            "    accuracy                           0.90    515668\n",
            "   macro avg       0.91      0.90      0.90    515668\n",
            "weighted avg       0.91      0.90      0.90    515668\n",
            "\n"
          ]
        }
      ]
    },
    {
      "cell_type": "markdown",
      "source": [
        "## k-fold Cross Validation with Random Forest Classification Model\n",
        "\n"
      ],
      "metadata": {
        "id": "p29SP4Sy8zL0"
      }
    },
    {
      "cell_type": "code",
      "source": [
        "from sklearn.model_selection import KFold, cross_val_score\n",
        "\n",
        "k = 5 # Number of folds\n",
        "kf = KFold(n_splits=k, shuffle=True, random_state=42)\n",
        "\n",
        "scores = cross_val_score(rf_model, X, y, cv=kf, scoring='accuracy')\n",
        "print(f'Cross Validation Accuracy: {scores.mean():.3f} (+/-{scores.std():0.3f})')\n"
      ],
      "metadata": {
        "colab": {
          "base_uri": "https://localhost:8080/"
        },
        "id": "AgoFqEXIChUi",
        "outputId": "a9f7dec8-da02-4d22-fe5a-4549f3225bd4"
      },
      "execution_count": null,
      "outputs": [
        {
          "output_type": "stream",
          "name": "stdout",
          "text": [
            "Cross Validation Accuracy: 0.896 (+/-0.006)\n"
          ]
        }
      ]
    },
    {
      "cell_type": "markdown",
      "source": [
        "The accuracy of k-fold cross validation with RandomForestClassifier is almost same as RandomForestClassifier only.\n",
        "\n",
        "Not trying k-fold with DecisionTreeClassifier, as accuracy of that is already good."
      ],
      "metadata": {
        "id": "pnpvAuoMPEPI"
      }
    },
    {
      "cell_type": "markdown",
      "source": [
        "# Plotting graphs"
      ],
      "metadata": {
        "id": "adWg73JMXjLy"
      }
    },
    {
      "cell_type": "code",
      "source": [
        "# Plot Precision-Recall Curve\n",
        "lr_precision, lr_recall, _ = precision_recall_curve(y_test, lr_y_pred)\n",
        "rf_precision, rf_recall, _ = precision_recall_curve(y_test, rf_y_pred)\n",
        "dc_precision, dc_recall, _ = precision_recall_curve(y_test, dc_y_pred)\n",
        "gb_precision, gb_recall, _ = precision_recall_curve(y_test, gb_y_pred)\n",
        "rf_precision_pca, rf_recall_pca, _ = precision_recall_curve(y_test_pca, rf_y_pred_pca)\n",
        "\n",
        "plt.figure(figsize=(10,6))\n",
        "plt.plot(lr_recall, lr_precision, color = 'b', label='Logistic Regression')\n",
        "plt.plot(rf_recall, rf_precision, color = 'r', label='Random Forest')\n",
        "plt.plot(dc_recall, dc_precision, color = 'g', label='Decision Tree')\n",
        "plt.plot(gb_recall, gb_precision, color = 'y', label='Gradient Boost')\n",
        "plt.plot(rf_recall_pca, rf_precision_pca, color = 'c', label='Random Forest with PCA')\n",
        "\n",
        "plt.xlabel('Recall')\n",
        "plt.ylabel('Precision')\n",
        "plt.title('Precision-Recall Curve')\n",
        "plt.legend()"
      ],
      "metadata": {
        "id": "ytay_FWkum10",
        "colab": {
          "base_uri": "https://localhost:8080/",
          "height": 602
        },
        "outputId": "70845efd-b5e9-4a5f-add8-3b8664279b08"
      },
      "execution_count": null,
      "outputs": [
        {
          "output_type": "execute_result",
          "data": {
            "text/plain": [
              "<matplotlib.legend.Legend at 0x78a653e84a00>"
            ]
          },
          "metadata": {},
          "execution_count": 20
        },
        {
          "output_type": "display_data",
          "data": {
            "text/plain": [
              "<Figure size 1000x600 with 1 Axes>"
            ],
            "image/png": "[encoded data removed]"
          },
          "metadata": {}
        }
      ]
    },
    {
      "cell_type": "code",
      "source": [
        "# Plot the ROC-AUC Curve\n",
        "from sklearn.metrics import roc_auc_score, roc_curve\n",
        "lr_roc_auc = roc_auc_score(y_test, lr_y_pred)\n",
        "rf_roc_auc = roc_auc_score(y_test, rf_y_pred)\n",
        "dc_roc_auc = roc_auc_score(y_test, dc_y_pred)\n",
        "gb_roc_auc = roc_auc_score(y_test, gb_y_pred)\n",
        "rf_roc_auc_pca = roc_auc_score(y_test_pca, rf_y_pred_pca)\n",
        "\n",
        "print(\"LogisticRegression ROC-AUC Score:\", lr_roc_auc)\n",
        "print(\"RandomForest ROC-AUC Score:\", rf_roc_auc)\n",
        "print(\"DecisionTree ROC-AUC Score:\", dc_roc_auc)\n",
        "print(\"GradientBoost ROC-AUC Score:\", gb_roc_auc)\n",
        "print(\"RandomForest ROC-AUC Score:\", rf_roc_auc_pca)\n",
        "\n",
        "lr_fpr, lr_tpr, lr_thresholds = roc_curve(y_test, lr_y_pred)\n",
        "rf_fpr, rf_tpr, rf_thresholds = roc_curve(y_test, rf_y_pred)\n",
        "dc_fpr, dc_tpr, dc_thresholds = roc_curve(y_test, dc_y_pred)\n",
        "gb_fpr, gb_tpr, gb_thresholds = roc_curve(y_test, gb_y_pred)\n",
        "rf_fpr_pca, rf_tpr_pca, rf_thresholds_pca = roc_curve(y_test_pca, rf_y_pred_pca)\n",
        "\n",
        "plt.figure(figsize=(10,6))\n",
        "plt.plot(lr_fpr, lr_tpr, color='b', label='Logistic Regression')\n",
        "plt.plot(rf_fpr, rf_tpr, color='r', label='Random Forest')\n",
        "plt.plot(dc_fpr, dc_tpr, color='g', label='Decision Tree')\n",
        "plt.plot(gb_fpr, gb_tpr, color='y', label='Gradient Boost')\n",
        "plt.plot(rf_fpr_pca, rf_tpr_pca, color='c', label='Random Forest with PCA')\n",
        "\n",
        "plt.xlabel('Flase Positive Rate')\n",
        "plt.ylabel('True Positive Rate')\n",
        "plt.title('ROC-AUC Curve')\n",
        "plt.legend()"
      ],
      "metadata": {
        "id": "phI3hq0y2Ts4",
        "colab": {
          "base_uri": "https://localhost:8080/",
          "height": 690
        },
        "outputId": "6ccdf50f-635d-4fa2-8dba-c06f2a2fd878"
      },
      "execution_count": null,
      "outputs": [
        {
          "output_type": "stream",
          "name": "stdout",
          "text": [
            "LogisticRegression ROC-AUC Score: 0.5\n",
            "RandomForest ROC-AUC Score: 0.9107177486289627\n",
            "DecisionTree ROC-AUC Score: 0.9931622671951721\n",
            "GradientBoost ROC-AUC Score: 0.9035425894179977\n",
            "RandomForest ROC-AUC Score: 0.991554759327341\n"
          ]
        },
        {
          "output_type": "execute_result",
          "data": {
            "text/plain": [
              "<matplotlib.legend.Legend at 0x78a65c120610>"
            ]
          },
          "metadata": {},
          "execution_count": 21
        },
        {
          "output_type": "display_data",
          "data": {
            "text/plain": [
              "<Figure size 1000x600 with 1 Axes>"
            ],
            "image/png": "[encoded data removed]"
          },
          "metadata": {}
        }
      ]
    },
    {
      "cell_type": "markdown",
      "source": [
        "From these graphs, it can be observed that:\n",
        " - **DecisionTree Classifier** and **RandomForestClassifier with PCA**, both are giving best results\n",
        " - RandomForest & GradientBoost are giving similar results\n",
        " - Logistic Regression is not a good choice for this problem as the data may not be linearly seperable."
      ],
      "metadata": {
        "id": "QuLHxt8askFm"
      }
    },
    {
      "cell_type": "code",
      "source": [],
      "metadata": {
        "id": "ddh846p-1d5K"
      },
      "execution_count": null,
      "outputs": []
    }
  ]
}